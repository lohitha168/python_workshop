{
 "cells": [
  {
   "cell_type": "markdown",
   "metadata": {},
   "source": [
    "# To check whether the given photo can be uploaded or not"
   ]
  },
  {
   "cell_type": "code",
   "execution_count": 1,
   "metadata": {},
   "outputs": [
    {
     "name": "stdout",
     "output_type": "stream",
     "text": [
      "Enter no. of test cases:3\n",
      "Enter height value of image:280\n",
      "Enter width value of image:320\n",
      "u need to crop the image\n",
      "Enter height value of image:180\n",
      "Enter width value of image:180\n",
      "image is accepted\n",
      "Enter height value of image:120\n",
      "Enter width value of image:340\n",
      "image is accepted\n"
     ]
    }
   ],
   "source": [
    "t_cases=int(input(\"Enter no. of test cases:\"))\n",
    "for i in range(1,t_cases+1):\n",
    "    size=180\n",
    "    h=int(input(\"Enter height value of image:\"))\n",
    "    w=int(input(\"Enter width value of image:\"))\n",
    "    if(h>size)and(w>size):\n",
    "        print(\"u need to crop the image\")\n",
    "    elif(h<size)and(w<size):\n",
    "        print(\"u need to upload another one\")\n",
    "    else:\n",
    "        print(\"image is accepted\")\n",
    "        \n",
    "        "
   ]
  },
  {
   "cell_type": "markdown",
   "metadata": {},
   "source": [
    "# Decalring a real winner"
   ]
  },
  {
   "cell_type": "code",
   "execution_count": 11,
   "metadata": {},
   "outputs": [
    {
     "name": "stdout",
     "output_type": "stream",
     "text": [
      "Enter the no. of bricks:20\n",
      "x is winner\n"
     ]
    }
   ],
   "source": [
    "bricks=int(input(\"Enter the no. of bricks:\"))\n",
    "n=bricks\n",
    "i=1\n",
    "while(i):\n",
    "    x=i\n",
    "    n=n-x\n",
    "    if(n<=0):\n",
    "          print(\"x is winner\")\n",
    "          break\n",
    "    y=x*2\n",
    "    n=n-y\n",
    "    if(n<=0):\n",
    "          print(\"y is winner\")\n",
    "          break\n",
    "    i=i+1\n",
    "\n"
   ]
  },
  {
   "cell_type": "markdown",
   "metadata": {},
   "source": [
    "# no. is leagal or illegal"
   ]
  },
  {
   "cell_type": "code",
   "execution_count": 13,
   "metadata": {},
   "outputs": [
    {
     "name": "stdout",
     "output_type": "stream",
     "text": [
      "Enter a no. to check:1401601499\n",
      "Legal ISBN\n"
     ]
    }
   ],
   "source": [
    "num=int(input(\"Enter a no. to check:\"))\n",
    "temp=num\n",
    "count=0\n",
    "sum1=0\n",
    "i=10\n",
    "while(num!=0):\n",
    "    count=count+1\n",
    "    num=num//10\n",
    "if(count==10):\n",
    "    while(temp!=0):\n",
    "        r=temp%10\n",
    "        sum1=sum1+(r*i)\n",
    "        i=i-1\n",
    "        temp=temp//10\n",
    "    if(sum1%11==0):\n",
    "           print(\"Legal ISBN\")\n",
    "    else:\n",
    "           print(\"Illegal ISBN\")\n",
    "        \n",
    "else:\n",
    "    print(\"Illegal ISBN\")\n",
    "        "
   ]
  },
  {
   "cell_type": "markdown",
   "metadata": {},
   "source": [
    "# Multiplication of tables"
   ]
  },
  {
   "cell_type": "code",
   "execution_count": 3,
   "metadata": {},
   "outputs": [
    {
     "name": "stdout",
     "output_type": "stream",
     "text": [
      "Enter a no.:15\n",
      "15 * 1 = 15\n",
      "15 * 2 = 30\n",
      "15 * 3 = 45\n",
      "15 * 4 = 60\n",
      "15 * 5 = 75\n",
      "15 * 6 = 90\n",
      "15 * 7 = 105\n",
      "15 * 8 = 120\n",
      "15 * 9 = 135\n",
      "15 * 10 = 150\n"
     ]
    }
   ],
   "source": [
    "n=int(input(\"Enter a no.:\"))\n",
    "for i in range(1,11):\n",
    "    print(n,\"*\",i,\"=\",n*i)"
   ]
  },
  {
   "cell_type": "markdown",
   "metadata": {},
   "source": [
    "# Expressions"
   ]
  },
  {
   "cell_type": "code",
   "execution_count": 8,
   "metadata": {},
   "outputs": [
    {
     "name": "stdout",
     "output_type": "stream",
     "text": [
      "1\n",
      "10\n",
      "85 736 8201 109386 1679629 28824020 536870929 10460353222 200000000021 3138428376744 "
     ]
    }
   ],
   "source": [
    "s=int(input())\n",
    "e=int(input())\n",
    "t=10\n",
    "for i in range(s,e+1):\n",
    "    n1=i+1\n",
    "    n2=i+2\n",
    "    expre=((n1+n2)+(n1**n2)*t)\n",
    "    print(expre,end=\" \")\n",
    "    t=t-1"
   ]
  },
  {
   "cell_type": "markdown",
   "metadata": {},
   "source": [
    "# Sum of digits"
   ]
  },
  {
   "cell_type": "code",
   "execution_count": 3,
   "metadata": {},
   "outputs": [
    {
     "name": "stdout",
     "output_type": "stream",
     "text": [
      "Enter a no.:1234567\n",
      "Sum= 28\n"
     ]
    }
   ],
   "source": [
    "n=int(input(\"Enter a no.:\"))\n",
    "sum1=0\n",
    "while(n!=0):\n",
    "    sum1=sum1+(n%10)\n",
    "    n=n//10\n",
    "print(\"Sum=\",sum1)"
   ]
  },
  {
   "cell_type": "markdown",
   "metadata": {},
   "source": [
    "# First digit and Last digit"
   ]
  },
  {
   "cell_type": "code",
   "execution_count": 1,
   "metadata": {},
   "outputs": [
    {
     "name": "stdout",
     "output_type": "stream",
     "text": [
      "1234\n",
      "Last digit= 4\n",
      "First digit= 0\n"
     ]
    }
   ],
   "source": [
    "n=int(input())\n",
    "temp=n\n",
    "n=n%10\n",
    "print(\"Last digit=\",n)\n",
    "while(temp!=0):\n",
    "    temp=temp//10\n",
    "print(\"First digit=\",temp)\n",
    "    "
   ]
  },
  {
   "cell_type": "markdown",
   "metadata": {},
   "source": [
    "# Cycle count"
   ]
  },
  {
   "cell_type": "code",
   "execution_count": null,
   "metadata": {},
   "outputs": [],
   "source": []
  },
  {
   "cell_type": "markdown",
   "metadata": {},
   "source": [
    "# Factors"
   ]
  },
  {
   "cell_type": "code",
   "execution_count": null,
   "metadata": {},
   "outputs": [],
   "source": []
  },
  {
   "cell_type": "markdown",
   "metadata": {},
   "source": [
    "# Multiplication of tables in a range"
   ]
  },
  {
   "cell_type": "code",
   "execution_count": null,
   "metadata": {},
   "outputs": [],
   "source": []
  },
  {
   "cell_type": "markdown",
   "metadata": {},
   "source": [
    "# List of Leap years"
   ]
  },
  {
   "cell_type": "code",
   "execution_count": null,
   "metadata": {},
   "outputs": [],
   "source": [
    "sy=int(input())\n",
    "ey=int(input())"
   ]
  }
 ],
 "metadata": {
  "kernelspec": {
   "display_name": "Python 3",
   "language": "python",
   "name": "python3"
  },
  "language_info": {
   "codemirror_mode": {
    "name": "ipython",
    "version": 3
   },
   "file_extension": ".py",
   "mimetype": "text/x-python",
   "name": "python",
   "nbconvert_exporter": "python",
   "pygments_lexer": "ipython3",
   "version": "3.7.1"
  }
 },
 "nbformat": 4,
 "nbformat_minor": 2
}
