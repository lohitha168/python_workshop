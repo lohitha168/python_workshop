{
 "cells": [
  {
   "cell_type": "markdown",
   "metadata": {},
   "source": [
    "### input:\"ECE CSE MEC CIV IT\"\n",
    "### output:ECE ESC CEM VIC IT\n",
    "###             ECE CSE MEC CIV TI "
   ]
  },
  {
   "cell_type": "code",
   "execution_count": 11,
   "metadata": {},
   "outputs": [
    {
     "name": "stdout",
     "output_type": "stream",
     "text": [
      "Enter a string:ece cse mec civ it\n",
      "['ece', 'cse', 'mec', 'civ', 'it']\n",
      "ece cse mec civ it\n",
      "Reversed Even position data:\n",
      "  ece cse mec civ it\n",
      "Reversed Odd position data:\n",
      "  ece cse mec civ it\n",
      "All Reversed data:\n",
      "  ece cse mec civ it"
     ]
    }
   ],
   "source": [
    "data=input(\"Enter a string:\")\n",
    "print(data.split())\n",
    "print(data)\n",
    "print(\"Reversed Even position data:\\n\",end=\"  \")\n",
    "for i in range(len(data)):\n",
    "    if(i%2==0):\n",
    "        print(data[i][::-1],end=\"\")\n",
    "    else:\n",
    "        print(data[i],end=\"\")\n",
    "print(\"\\nReversed Odd position data:\\n\",end=\"  \")\n",
    "for i in range(len(data)):\n",
    "    if(i%2==1):\n",
    "        print(data[i][::-1],end=\"\")\n",
    "    else:\n",
    "        print(data[i],end=\"\")\n",
    "print(\"\\nAll Reversed data:\\n\",end=\"  \")\n",
    "for i in range(len(data)):\n",
    "    print(data[i],end=\"\")"
   ]
  },
  {
   "cell_type": "markdown",
   "metadata": {},
   "source": [
    "###  input:cse4ece5mec3civ5\n",
    "### output:cse cse cse cse ece ece ece ece ece......."
   ]
  },
  {
   "cell_type": "code",
   "execution_count": 15,
   "metadata": {},
   "outputs": [
    {
     "name": "stdout",
     "output_type": "stream",
     "text": [
      "Enter a string:cse4ece5mec3civ5\n",
      "csecsecsecse\n",
      "eceeceeceeceece\n",
      "mecmecmec\n",
      "civcivcivcivciv\n"
     ]
    }
   ],
   "source": [
    "s=input(\"Enter a string:\")\n",
    "data=''\n",
    "for i in range(len(s)):\n",
    "    if(s[i].isalpha()):\n",
    "        data=data+s[i]\n",
    "    if(s[i].isnumeric()):\n",
    "        data=data*int(s[i])\n",
    "        print(data)\n",
    "        data=''"
   ]
  },
  {
   "cell_type": "markdown",
   "metadata": {},
   "source": [
    "### input:4cse3ece5mec\n",
    "### output:cse cse cse cse ece ece ece.........."
   ]
  },
  {
   "cell_type": "code",
   "execution_count": 15,
   "metadata": {
    "scrolled": true
   },
   "outputs": [
    {
     "name": "stdout",
     "output_type": "stream",
     "text": [
      "Enetr a string:3ECE5CSE\n",
      "['3', '5']\n",
      "['', '']\n"
     ]
    }
   ],
   "source": [
    "data=input(\"enter a string\")\n",
    "string=''\n",
    "num=data\n",
    "        "
   ]
  },
  {
   "cell_type": "code",
   "execution_count": 22,
   "metadata": {},
   "outputs": [
    {
     "name": "stdout",
     "output_type": "stream",
     "text": [
      "Enter a string:4cse5ece\n",
      "cseece "
     ]
    }
   ],
   "source": [
    "s=input(\"Enter a string:\")\n",
    "#il=[]\n",
    "#bl=[]\n",
    "data=''\n",
    "r=''\n",
    "for i in range(len(s)):\n",
    "    if(s[i].isnumeric()):\n",
    "        data=data+s[i]\n",
    "        #print(data)\n",
    "    if(s[i].isalpha()):\n",
    "        r=r+s[i]\n",
    "#print(r,end=\" \")\n",
    "\n",
    "    \n",
    "        "
   ]
  },
  {
   "cell_type": "markdown",
   "metadata": {},
   "source": [
    "###  input:\"python\"\n",
    "### output:\"pppyyyttthhhooonnn\""
   ]
  },
  {
   "cell_type": "code",
   "execution_count": 23,
   "metadata": {},
   "outputs": [
    {
     "name": "stdout",
     "output_type": "stream",
     "text": [
      "python\n",
      "pppyyyttthhhooonnn"
     ]
    }
   ],
   "source": [
    "s=input()\n",
    "for i in range(len(s)):\n",
    "    print(s[i]*3,end='')"
   ]
  },
  {
   "cell_type": "markdown",
   "metadata": {},
   "source": [
    "### input:\"python\"\n",
    "### output:\"ppppppyyyyytttthhhoon\""
   ]
  },
  {
   "cell_type": "code",
   "execution_count": 25,
   "metadata": {},
   "outputs": [
    {
     "name": "stdout",
     "output_type": "stream",
     "text": [
      "python\n",
      "ppppppyyyyytttthhhoon"
     ]
    }
   ],
   "source": [
    "s=input()\n",
    "l=len(s)\n",
    "for i in range(len(s)):\n",
    "    print(s[i]*l,end='')\n",
    "    l=l-1    "
   ]
  },
  {
   "cell_type": "markdown",
   "metadata": {},
   "source": [
    "### Palindrome"
   ]
  },
  {
   "cell_type": "code",
   "execution_count": 26,
   "metadata": {},
   "outputs": [
    {
     "name": "stdout",
     "output_type": "stream",
     "text": [
      "Enter a string:lohitha\n",
      "its not a palindrome\n"
     ]
    }
   ],
   "source": [
    "String=input(\"Enter a string:\")\n",
    "rev=String[::-1]\n",
    "if(String==rev):\n",
    "    print(\"Its a palindrome\")\n",
    "else:\n",
    "    print(\"its not a palindrome\")"
   ]
  },
  {
   "cell_type": "markdown",
   "metadata": {},
   "source": [
    "## Lists"
   ]
  },
  {
   "cell_type": "markdown",
   "metadata": {},
   "source": [
    "### Task 1"
   ]
  },
  {
   "cell_type": "code",
   "execution_count": 10,
   "metadata": {},
   "outputs": [
    {
     "name": "stdout",
     "output_type": "stream",
     "text": [
      "middle value of a list: 6\n",
      "[1, 4, 7, 9, 75, 5]\n",
      "[1, 4, 5, 7, 9, 75]\n",
      "[6, 45, 58, 12, 16, 17]\n",
      "[58, 45, 17, 16, 12, 6]\n",
      "[1, 4, 5, 7, 9, 75, 58, 45, 17, 16, 12, 6]\n"
     ]
    }
   ],
   "source": [
    "li=[1,4,7,9,75,5,6,45,58,12,16,17]\n",
    "mid=len(li)//2\n",
    "print(\"middle value of a list:\",mid)\n",
    "lli=li[:mid]\n",
    "print(lli)\n",
    "lli.sort()\n",
    "print(lli)\n",
    "rli=li[mid:]\n",
    "print(rli)\n",
    "rli.sort(reverse=True)\n",
    "print(rli)\n",
    "data=lli+rli\n",
    "print(data)\n",
    "data.insert(mid,li[mid])\n",
    "\n"
   ]
  },
  {
   "cell_type": "markdown",
   "metadata": {},
   "source": [
    "### Task 2"
   ]
  },
  {
   "cell_type": "code",
   "execution_count": 9,
   "metadata": {},
   "outputs": [
    {
     "name": "stdout",
     "output_type": "stream",
     "text": [
      "middle value of a list: 6\n",
      "[6, 12, 16, 17, 45, 58]\n",
      "[1, 4, 7, 9, 75, 5, 6, 12, 16, 17, 45, 58]\n"
     ]
    }
   ],
   "source": [
    "li=[1,4,7,9,75,5,6,45,58,12,16,17]\n",
    "mid=len(li)//2\n",
    "print(\"middle value of a list:\",mid)\n",
    "rli=li[mid:]\n",
    "rli.sort()\n",
    "print(rli)\n",
    "lli=li[:mid]\n",
    "data=lli+rli\n",
    "print(data)\n",
    "data.insert(mid,li[mid])"
   ]
  },
  {
   "cell_type": "code",
   "execution_count": 8,
   "metadata": {},
   "outputs": [
    {
     "name": "stdout",
     "output_type": "stream",
     "text": [
      "middle value of a list: 6\n",
      "[1, 4, 5, 7, 9, 75, 6, 45, 58, 12, 16, 17]\n"
     ]
    }
   ],
   "source": [
    "li=[1,4,7,9,75,5,6,45,58,12,16,17]\n",
    "mid=len(li)//2\n",
    "print(\"middle value of a list:\",mid)\n",
    "lli=li[:mid]\n",
    "lli.sort()\n",
    "rli=li[mid:]\n",
    "data=lli+rli\n",
    "print(data)\n",
    "data.insert(mid,li[mid])\n",
    "\n"
   ]
  },
  {
   "cell_type": "code",
   "execution_count": null,
   "metadata": {},
   "outputs": [],
   "source": []
  }
 ],
 "metadata": {
  "kernelspec": {
   "display_name": "Python 3",
   "language": "python",
   "name": "python3"
  },
  "language_info": {
   "codemirror_mode": {
    "name": "ipython",
    "version": 3
   },
   "file_extension": ".py",
   "mimetype": "text/x-python",
   "name": "python",
   "nbconvert_exporter": "python",
   "pygments_lexer": "ipython3",
   "version": "3.7.1"
  }
 },
 "nbformat": 4,
 "nbformat_minor": 2
}
