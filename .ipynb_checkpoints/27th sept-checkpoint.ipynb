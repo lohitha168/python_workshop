{
 "cells": [
  {
   "cell_type": "markdown",
   "metadata": {},
   "source": [
    "# Dicitonaries"
   ]
  },
  {
   "cell_type": "markdown",
   "metadata": {},
   "source": [
    "## Contact application"
   ]
  },
  {
   "cell_type": "code",
   "execution_count": 56,
   "metadata": {},
   "outputs": [
    {
     "name": "stdout",
     "output_type": "stream",
     "text": [
      "contact added successfully\n",
      "contact added successfully\n"
     ]
    }
   ],
   "source": [
    "contact={}\n",
    "def add_cont(name,phno):\n",
    "    if(name in contact.keys()):\n",
    "        print(name,'contact already exists')\n",
    "    else:\n",
    "        contact[name]=phno\n",
    "        print(\"contact added successfully\")\n",
    "add_cont(\"honey\",987654321)\n",
    "add_cont(\"yash\",678953210)"
   ]
  },
  {
   "cell_type": "code",
   "execution_count": 13,
   "metadata": {},
   "outputs": [
    {
     "name": "stdout",
     "output_type": "stream",
     "text": [
      "1 .name= dict_keys(['honey', 'yash']) ,phno= dict_values([987654321, 678953210])\n",
      "2 .name= dict_keys(['honey', 'yash']) ,phno= dict_values([987654321, 678953210])\n"
     ]
    }
   ],
   "source": [
    "def display_cont():\n",
    "    for i in range(len(contact)):\n",
    "        print(i+1,\".name=\",contact.keys(),\",phno=\",contact.values())\n",
    "display_cont()"
   ]
  },
  {
   "cell_type": "code",
   "execution_count": 22,
   "metadata": {},
   "outputs": [
    {
     "name": "stdout",
     "output_type": "stream",
     "text": [
      "1 .name= honey ,phno= 987654321\n",
      "2 .name= yash ,phno= 678953210\n"
     ]
    }
   ],
   "source": [
    "def disp_cont():\n",
    "    i=1\n",
    "    if(i<len(contact)):\n",
    "        for name,phno in contact.items():\n",
    "              print(i,\".name=\",name,\",phno=\",phno)\n",
    "              i+=1\n",
    "        #print(i)\n",
    "disp_cont()\n",
    "            "
   ]
  },
  {
   "cell_type": "code",
   "execution_count": 60,
   "metadata": {},
   "outputs": [
    {
     "name": "stdout",
     "output_type": "stream",
     "text": [
      "Enter name or phno:987654321\n"
     ]
    },
    {
     "ename": "NameError",
     "evalue": "name 'phno' is not defined",
     "output_type": "error",
     "traceback": [
      "\u001b[1;31m---------------------------------------------------------------------------\u001b[0m",
      "\u001b[1;31mNameError\u001b[0m                                 Traceback (most recent call last)",
      "\u001b[1;32m<ipython-input-60-a1a5ff273486>\u001b[0m in \u001b[0;36m<module>\u001b[1;34m\u001b[0m\n\u001b[0;32m     11\u001b[0m         \u001b[1;32melse\u001b[0m\u001b[1;33m:\u001b[0m\u001b[1;33m\u001b[0m\u001b[1;33m\u001b[0m\u001b[0m\n\u001b[0;32m     12\u001b[0m             \u001b[0mprint\u001b[0m\u001b[1;33m(\u001b[0m\u001b[0mphno\u001b[0m\u001b[1;33m,\u001b[0m\u001b[1;34m\"not found\"\u001b[0m\u001b[1;33m)\u001b[0m\u001b[1;33m\u001b[0m\u001b[1;33m\u001b[0m\u001b[0m\n\u001b[1;32m---> 13\u001b[1;33m \u001b[0msearch_cont\u001b[0m\u001b[1;33m(\u001b[0m\u001b[1;33m)\u001b[0m\u001b[1;33m\u001b[0m\u001b[1;33m\u001b[0m\u001b[0m\n\u001b[0m\u001b[0;32m     14\u001b[0m \u001b[1;33m\u001b[0m\u001b[0m\n\u001b[0;32m     15\u001b[0m \u001b[1;33m\u001b[0m\u001b[0m\n",
      "\u001b[1;32m<ipython-input-60-a1a5ff273486>\u001b[0m in \u001b[0;36msearch_cont\u001b[1;34m()\u001b[0m\n\u001b[0;32m     10\u001b[0m             \u001b[0mprint\u001b[0m\u001b[1;33m(\u001b[0m\u001b[1;34m\"name=\"\u001b[0m\u001b[1;33m,\u001b[0m\u001b[0mcontact\u001b[0m\u001b[1;33m[\u001b[0m\u001b[0mnp\u001b[0m\u001b[1;33m]\u001b[0m\u001b[1;33m)\u001b[0m\u001b[1;33m\u001b[0m\u001b[1;33m\u001b[0m\u001b[0m\n\u001b[0;32m     11\u001b[0m         \u001b[1;32melse\u001b[0m\u001b[1;33m:\u001b[0m\u001b[1;33m\u001b[0m\u001b[1;33m\u001b[0m\u001b[0m\n\u001b[1;32m---> 12\u001b[1;33m             \u001b[0mprint\u001b[0m\u001b[1;33m(\u001b[0m\u001b[0mphno\u001b[0m\u001b[1;33m,\u001b[0m\u001b[1;34m\"not found\"\u001b[0m\u001b[1;33m)\u001b[0m\u001b[1;33m\u001b[0m\u001b[1;33m\u001b[0m\u001b[0m\n\u001b[0m\u001b[0;32m     13\u001b[0m \u001b[0msearch_cont\u001b[0m\u001b[1;33m(\u001b[0m\u001b[1;33m)\u001b[0m\u001b[1;33m\u001b[0m\u001b[1;33m\u001b[0m\u001b[0m\n\u001b[0;32m     14\u001b[0m \u001b[1;33m\u001b[0m\u001b[0m\n",
      "\u001b[1;31mNameError\u001b[0m: name 'phno' is not defined"
     ]
    }
   ],
   "source": [
    "def search_cont():\n",
    "    np=input(\"Enter name or phno:\")\n",
    "    if(np.isalpha()):\n",
    "        if (np in contact.keys()):\n",
    "            print(\"phno=\",contact[np])\n",
    "        else:\n",
    "            print(name,\"not found\")\n",
    "    else:\n",
    "        if(np in contact.keys()):\n",
    "            print(\"name=\",contact[np])\n",
    "        else:\n",
    "            print(phno,\"not found\")\n",
    "search_cont()\n",
    "            \n",
    "            "
   ]
  },
  {
   "cell_type": "code",
   "execution_count": 59,
   "metadata": {},
   "outputs": [
    {
     "name": "stdout",
     "output_type": "stream",
     "text": [
      "deleted successfully\n"
     ]
    }
   ],
   "source": [
    "def del_cont(name):\n",
    "    if(name in contact.keys()):\n",
    "        contact.pop(name)\n",
    "        print(\"deleted successfully\")\n",
    "       # for name in contact.items():\n",
    "    else:\n",
    "        print(name,\"does not exist\")\n",
    "del_cont(\"honey\")"
   ]
  },
  {
   "cell_type": "code",
   "execution_count": null,
   "metadata": {},
   "outputs": [],
   "source": []
  }
 ],
 "metadata": {
  "kernelspec": {
   "display_name": "Python 3",
   "language": "python",
   "name": "python3"
  },
  "language_info": {
   "codemirror_mode": {
    "name": "ipython",
    "version": 3
   },
   "file_extension": ".py",
   "mimetype": "text/x-python",
   "name": "python",
   "nbconvert_exporter": "python",
   "pygments_lexer": "ipython3",
   "version": "3.7.1"
  }
 },
 "nbformat": 4,
 "nbformat_minor": 2
}
